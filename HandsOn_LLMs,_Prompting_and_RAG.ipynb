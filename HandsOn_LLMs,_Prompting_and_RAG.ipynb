{
  "nbformat": 4,
  "nbformat_minor": 0,
  "metadata": {
    "colab": {
      "provenance": [],
      "authorship_tag": "ABX9TyPXrIYU5ApzZJ0AeFbfPrBS",
      "include_colab_link": true
    },
    "kernelspec": {
      "name": "python3",
      "display_name": "Python 3"
    },
    "language_info": {
      "name": "python"
    }
  },
  "cells": [
    {
      "cell_type": "markdown",
      "metadata": {
        "id": "view-in-github",
        "colab_type": "text"
      },
      "source": [
        "<a href=\"https://colab.research.google.com/github/CarlosCordobaR/HandsOn/blob/main/HandsOn_LLMs%2C_Prompting_and_RAG.ipynb\" target=\"_parent\"><img src=\"https://colab.research.google.com/assets/colab-badge.svg\" alt=\"Open In Colab\"/></a>"
      ]
    },
    {
      "cell_type": "markdown",
      "source": [
        "#**Generative AI Automation**"
      ],
      "metadata": {
        "id": "SBD-SjuGKLSB"
      }
    },
    {
      "cell_type": "markdown",
      "source": [
        "In our daily lives, we interact with artificial intelligence (AI) on a regular basis, often without fully understanding the underlying mechanisms behind the solutions we receive or how we can unlock its full potential. Here, I present an attempt to automate basics using python on colab."
      ],
      "metadata": {
        "id": "u8FXIyFBI4Tf"
      }
    },
    {
      "cell_type": "markdown",
      "source": [
        "The Notebook is structured as follows:\n",
        "\n",
        "1. Code for capturing and visualizing web information.\n",
        "2. Code for installing the Gemini API\n",
        "3. Prompting and model outputs\n",
        "4. Using RAG\n",
        "5. Conclusion"
      ],
      "metadata": {
        "id": "lB5o2WbpAMge"
      }
    },
    {
      "cell_type": "markdown",
      "source": [
        "##Capturing and visualizing web information\n",
        "\n",
        "\n",
        "\n"
      ],
      "metadata": {
        "id": "xUvCToscDQnD"
      }
    },
    {
      "cell_type": "code",
      "source": [
        "# The module requests\n",
        "import requests\n",
        "\n",
        "# The BeautifulSoup function\n",
        "from bs4 import BeautifulSoup"
      ],
      "metadata": {
        "id": "Sgtwan_II4rX"
      },
      "execution_count": null,
      "outputs": []
    },
    {
      "cell_type": "code",
      "source": [
        "# The Web Scraping Source\n",
        "url = \"http://sites.temple.edu/carloscordoba/\"\n",
        "\n",
        "# Geting the HTML code\n",
        "html = requests.get(url).content\n",
        "\n",
        "# Saving the HTML on  Beautiful Soup format\n",
        "soup = BeautifulSoup(html, 'html.parser')\n",
        "\n",
        "# Mostramos los 2000 primeros caracteres del código\n",
        "print(soup.prettify()[:2000])"
      ],
      "metadata": {
        "colab": {
          "base_uri": "https://localhost:8080/"
        },
        "id": "p4cIQ9q6I46N",
        "outputId": "e530889b-d50e-4aa1-98ae-2c6707baf9f7"
      },
      "execution_count": null,
      "outputs": [
        {
          "output_type": "stream",
          "name": "stdout",
          "text": [
            "<!DOCTYPE html>\n",
            "<html lang=\"en-US\">\n",
            " <head>\n",
            "  <meta charset=\"utf-8\"/>\n",
            "  <meta content=\"width=device-width, initial-scale=1\" name=\"viewport\"/>\n",
            "  <meta content=\"max-image-preview:large\" name=\"robots\"/>\n",
            "  <title>\n",
            "   all artificial intelligence – ΔΙΙ ΔΙ – Artificial Intelligence Carlos Cordoba Blog\n",
            "  </title>\n",
            "  <link href=\"https://sites.temple.edu/carloscordoba/feed/\" rel=\"alternate\" title=\"all artificial intelligence - ΔΙΙ ΔΙ » Feed\" type=\"application/rss+xml\"/>\n",
            "  <link href=\"https://sites.temple.edu/carloscordoba/comments/feed/\" rel=\"alternate\" title=\"all artificial intelligence - ΔΙΙ ΔΙ » Comments Feed\" type=\"application/rss+xml\"/>\n",
            "  <link href=\"https://sites.temple.edu/carloscordoba/carlos-cordoba-ai-blog/feed/\" rel=\"alternate\" title=\"all artificial intelligence - ΔΙΙ ΔΙ » All Artificial Intelligence – ΔΙΙ ΔΙ – Comments Feed\" type=\"application/rss+xml\"/>\n",
            "  <script>\n",
            "   window._wpemojiSettings = {\"baseUrl\":\"https:\\/\\/s.w.org\\/images\\/core\\/emoji\\/15.0.3\\/72x72\\/\",\"ext\":\".png\",\"svgUrl\":\"https:\\/\\/s.w.org\\/images\\/core\\/emoji\\/15.0.3\\/svg\\/\",\"svgExt\":\".svg\",\"source\":{\"concatemoji\":\"https:\\/\\/sites.temple.edu\\/carloscordoba\\/wp-includes\\/js\\/wp-emoji-release.min.js?ver=6.5.3\"}};\n",
            "/*! This file is auto-generated */\n",
            "!function(i,n){var o,s,e;function c(e){try{var t={supportTests:e,timestamp:(new Date).valueOf()};sessionStorage.setItem(o,JSON.stringify(t))}catch(e){}}function p(e,t,n){e.clearRect(0,0,e.canvas.width,e.canvas.height),e.fillText(t,0,0);var t=new Uint32Array(e.getImageData(0,0,e.canvas.width,e.canvas.height).data),r=(e.clearRect(0,0,e.canvas.width,e.canvas.height),e.fillText(n,0,0),new Uint32Array(e.getImageData(0,0,e.canvas.width,e.canvas.height).data));return t.every(function(e,t){return e===r[t]})}function u(e,t,n){switch(t){case\"flag\":return n(e,\"\\ud83c\\udff3\\ufe0f\\u200d\\u26a7\\ufe0f\",\"\\ud83c\\udff3\\ufe0f\\u200b\\u26a7\\ufe0f\")?!1:!n(e,\"\\ud83c\\uddfa\\ud83c\\uddf3\",\"\\ud83c\\uddfa\\u200b\\ud83c\\uddf3\")&&!n(e,\"\\ud83c\\udff4\\udb40\\udc67\\udb40\\udc62\\udb40\\udc65\\udb40\\udc6e\\u\n"
          ]
        }
      ]
    },
    {
      "cell_type": "markdown",
      "source": [
        "From this point onward, it becomes crucial to accompany the automation process by inspecting the page's source code. This ensures that we are extracting all the necessary information."
      ],
      "metadata": {
        "id": "jHI7aHBUOf4U"
      }
    },
    {
      "cell_type": "code",
      "source": [
        "# Looking for web labels\n",
        "soup.find('title').text"
      ],
      "metadata": {
        "colab": {
          "base_uri": "https://localhost:8080/",
          "height": 35
        },
        "id": "Bu1cb7RqI5E9",
        "outputId": "13e31656-6cfc-4e97-a3de-1a674bd8707c"
      },
      "execution_count": null,
      "outputs": [
        {
          "output_type": "execute_result",
          "data": {
            "text/plain": [
              "'all artificial intelligence – ΔΙΙ ΔΙ – Artificial Intelligence Carlos Cordoba Blog'"
            ],
            "application/vnd.google.colaboratory.intrinsic+json": {
              "type": "string"
            }
          },
          "metadata": {},
          "execution_count": 3
        }
      ]
    },
    {
      "cell_type": "markdown",
      "source": [
        "During the page inspection process, it was observed that the information to be extracted is located within the heading 4 (`h4`) tags.\n",
        "\n"
      ],
      "metadata": {
        "id": "TJidXtW2I5xR"
      }
    },
    {
      "cell_type": "code",
      "source": [
        "# Loking the infomation naviating the inspector\n",
        "contenido_hoja1"
      ],
      "metadata": {
        "colab": {
          "base_uri": "https://localhost:8080/",
          "height": 89
        },
        "id": "MNBfyIpuU6T6",
        "outputId": "0fe03c36-c7e6-4cb7-f92c-a32a570f30c7"
      },
      "execution_count": null,
      "outputs": [
        {
          "output_type": "execute_result",
          "data": {
            "text/plain": [
              "'The artificial intelligence (AI) is considered one of the most interesting and rapidly growing fields. Experts predict that the impact of AI will be unprecedented in human history. Unlike other sciences that may seem to have reached their limits, AI still offers numerous opportunities for groundbreaking discoveries. AI is a universal field that applies to any intellectual task. In summary AI is everywhere. '"
            ],
            "application/vnd.google.colaboratory.intrinsic+json": {
              "type": "string"
            }
          },
          "metadata": {},
          "execution_count": 4
        }
      ]
    },
    {
      "cell_type": "markdown",
      "source": [
        "##Calling the Gemini API"
      ],
      "metadata": {
        "id": "imJF7MWwbJ5r"
      }
    },
    {
      "cell_type": "code",
      "source": [
        "# INstalling the Python SDK to call  the Gemini API\n",
        "!pip install -q -U google-generativeai"
      ],
      "metadata": {
        "colab": {
          "base_uri": "https://localhost:8080/"
        },
        "id": "QBrtP4uePReL",
        "outputId": "7eab0a3b-6867-4b17-cfa3-f49e6e02a12b"
      },
      "execution_count": null,
      "outputs": [
        {
          "output_type": "stream",
          "name": "stdout",
          "text": [
            "\u001b[?25l     \u001b[90m━━━━━━━━━━━━━━━━━━━━━━━━━━━━━━━━━━━━━━━━\u001b[0m \u001b[32m0.0/163.9 kB\u001b[0m \u001b[31m?\u001b[0m eta \u001b[36m-:--:--\u001b[0m\r\u001b[2K     \u001b[91m━━━━━━━━━━━━━━━━━━━━━━━━━━━━━━━━━━━━━━━\u001b[0m\u001b[91m╸\u001b[0m \u001b[32m163.8/163.9 kB\u001b[0m \u001b[31m5.2 MB/s\u001b[0m eta \u001b[36m0:00:01\u001b[0m\r\u001b[2K     \u001b[90m━━━━━━━━━━━━━━━━━━━━━━━━━━━━━━━━━━━━━━━━\u001b[0m \u001b[32m163.9/163.9 kB\u001b[0m \u001b[31m3.4 MB/s\u001b[0m eta \u001b[36m0:00:00\u001b[0m\n",
            "\u001b[?25h\u001b[?25l     \u001b[90m━━━━━━━━━━━━━━━━━━━━━━━━━━━━━━━━━━━━━━━━\u001b[0m \u001b[32m0.0/718.3 kB\u001b[0m \u001b[31m?\u001b[0m eta \u001b[36m-:--:--\u001b[0m\r\u001b[2K     \u001b[91m━━━━━━━━━━━━━━━━━━━━━\u001b[0m\u001b[91m╸\u001b[0m\u001b[90m━━━━━━━━━━━━━━━━━━\u001b[0m \u001b[32m389.1/718.3 kB\u001b[0m \u001b[31m11.3 MB/s\u001b[0m eta \u001b[36m0:00:01\u001b[0m\r\u001b[2K     \u001b[91m━━━━━━━━━━━━━━━━━━━━━━━━━━━━━━━━━━━━━━━\u001b[0m\u001b[91m╸\u001b[0m \u001b[32m716.8/718.3 kB\u001b[0m \u001b[31m11.5 MB/s\u001b[0m eta \u001b[36m0:00:01\u001b[0m\r\u001b[2K     \u001b[90m━━━━━━━━━━━━━━━━━━━━━━━━━━━━━━━━━━━━━━━━\u001b[0m \u001b[32m718.3/718.3 kB\u001b[0m \u001b[31m9.6 MB/s\u001b[0m eta \u001b[36m0:00:00\u001b[0m\n",
            "\u001b[?25h"
          ]
        }
      ]
    },
    {
      "cell_type": "code",
      "source": [
        "  # Importing the Python SDK\n",
        "  import google.generativeai as genai\n",
        "\n",
        "  # Accesing the API with your user key\n",
        "  from google.colab import userdata\n",
        "\n",
        "  GOOGLE_API_KEY=userdata.get('GOOGLE_API_KEY')\n",
        "  genai.configure(api_key=GOOGLE_API_KEY)"
      ],
      "metadata": {
        "id": "o7WFrY-nPRNs"
      },
      "execution_count": null,
      "outputs": []
    },
    {
      "cell_type": "code",
      "source": [
        "# Inicializando el modelo\n",
        "model = genai.GenerativeModel('gemini-pro')"
      ],
      "metadata": {
        "id": "R8MOlFsscf3W"
      },
      "execution_count": null,
      "outputs": []
    },
    {
      "cell_type": "markdown",
      "source": [
        "###Prompting using ASPeCCT\n",
        "Using the  elements:\n",
        "**A**ction,\n",
        "**S**teps,\n",
        "**P**ersonality,\n",
        "**C**ontext,\n",
        "**C**onstraints and\n",
        "**T**emplate\n",
        " to provide a structured request"
      ],
      "metadata": {
        "id": "ST8zFypAgxsB"
      }
    },
    {
      "cell_type": "code",
      "source": [
        "action = \"Escribe un articulo sobre inteligencia artificial para mi blog\"\n",
        "steps = \"El articulo debe contener 1. Una Introduccion, 2. Antecendentes de la IA, 3 Estado Actual de la IA, 4. Aplicaciones de la IA, 5. Expectativas futuras de la IA, 6. Conclusiones\"\n",
        "personality = \"Actua como un experto en ciencia de datos\"\n",
        "context = contenido_hoja1\n",
        "constraints= \"Escribe el articulo en castellano y restringelo a 800 palabras\"\n",
        "template = \"Ten en cuenta que el publico objetivo tiene conocimeintos basicos de IA\"\n",
        "PROMPT= action + steps + personality + context + constraints + template\n",
        "print(PROMPT)"
      ],
      "metadata": {
        "id": "no78yS0zgJ1C"
      },
      "execution_count": null,
      "outputs": []
    },
    {
      "cell_type": "code",
      "source": [
        "#Ingresando el prompt\n",
        "contexto=contenido_hoja1\n",
        "prompt0=contexto\n",
        "prompt1=\"Traduce al español el texto\"\n",
        "prompt2=\"Con base en el texto plantea en un parrafo las expectativas de la inteligencia artificial\""
      ],
      "metadata": {
        "id": "XsjLrie_dC9C"
      },
      "execution_count": null,
      "outputs": []
    },
    {
      "cell_type": "code",
      "source": [
        "#Generando la respuesta del modelo\n",
        "prompts = [prompt0 + prompt1 + prompt2]\n",
        "response = model.generate_content(prompts)\n",
        "print('El contesto es:', contexto)\n",
        "print(response.text)\n"
      ],
      "metadata": {
        "id": "kL2Z_Ap0dCr_",
        "colab": {
          "base_uri": "https://localhost:8080/",
          "height": 394
        },
        "outputId": "940bd401-cc6c-4f93-bd7f-11c170e356c1"
      },
      "execution_count": null,
      "outputs": [
        {
          "output_type": "stream",
          "name": "stdout",
          "text": [
            "El contesto es: The artificial intelligence (AI) is considered one of the most interesting and rapidly growing fields. Experts predict that the impact of AI will be unprecedented in human history. Unlike other sciences that may seem to have reached their limits, AI still offers numerous opportunities for groundbreaking discoveries. AI is a universal field that applies to any intellectual task. In summary AI is everywhere. \n",
            "**Traducción al español:**\n",
            "\n",
            "Se considera a la inteligencia artificial (IA) como uno de los campos más interesantes y de más rápido crecimiento. Los expertos predicen que el impacto de la IA será sin precedentes en la historia de la humanidad. A diferencia de otras ciencias que podrían parecer que han alcanzado sus límites, la IA todavía ofrece numerosas oportunidades para descubrimientos innovadores. La IA es un campo universal que se aplica a cualquier tarea intelectual. En resumen, la IA está en todas partes.\n",
            "\n",
            "**Títulos para encabezar el texto:**\n",
            "\n",
            "* La IA: un campo ilimitado para el descubrimiento\n",
            "* La revolución de la IA: impacto sin precedentes en la humanidad\n",
            "* IA: la ciencia universal que lo abarca todo\n",
            "\n",
            "**Ideas para divulgar la IA en redes sociales:**\n",
            "\n",
            "* Comparte artículos y noticias sobre los últimos avances en IA.\n",
            "* Crea publicaciones que destaquen los beneficios potenciales de la IA para diferentes sectores.\n",
            "* Organiza debates y chats en vivo para discutir las oportunidades y los desafíos de la IA.\n",
            "\n",
            "**Reflexión sobre el tema de la IA:**\n",
            "\n",
            "La IA tiene el potencial de revolucionar innumerables aspectos de nuestras vidas, desde la atención médica y la educación hasta el transporte y la fabricación. Sin embargo, también plantea importantes cuestiones éticas y sociales que deben abordarse cuidadosamente. Al abrazar el avance de la IA de manera responsable, podemos aprovechar su poder para mejorar la sociedad humana y garantizar que su impacto sea positivo y beneficioso para todos.\n"
          ]
        }
      ]
    },
    {
      "cell_type": "markdown",
      "source": [
        "##Using RAG"
      ],
      "metadata": {
        "id": "KQTzaT3uE13K"
      }
    },
    {
      "cell_type": "code",
      "source": [
        "# Cargue de informacion o archivo a la API\n",
        "# Aqui jugamos con ventaja porque podemos cargar archivos\n",
        "# la mismas interfase, ddesde el drive desde la web\n",
        "contexto=contenido_hoja1\n",
        "prompt0=contexto\n",
        "prompt1=\"Traduce al español el texto\"\n",
        "prompt2=\"Cual es la vision del texto sobre la inteligencia artificial\"\n",
        "\n",
        "#Generando la respuesta del modelo\n",
        "prompts = [prompt0 + prompt1 + prompt2]\n",
        "response = model.generate_content(prompts)\n",
        "print('El contesto es:', contexto)\n",
        "print(response.text)"
      ],
      "metadata": {
        "id": "spXNHphHE1HT"
      },
      "execution_count": null,
      "outputs": []
    },
    {
      "cell_type": "markdown",
      "source": [
        "###RAG with a pdf from Google Drive"
      ],
      "metadata": {
        "id": "0PtYNUCNQ8v8"
      }
    },
    {
      "cell_type": "code",
      "source": [
        "# Montando mi google drive in colab\n",
        "from google.colab import drive\n",
        "drive.mount('/content/drive')\n",
        "\n",
        "# La ruta de acceso al archivo de interes\n",
        "pdf_file_path = '/content/drive/MyDrive/my_pdf_file.pdf'\n",
        "\n",
        "# Extrayendo la informacion del\n",
        "with open(pdf_file_path, 'rb') as f:\n",
        "    pdf_bytes = f.read()\n",
        "\n",
        "# Alimentar  el contendo del archivo Gemini API\n",
        "response = model.generate_content([pdf_bytes])\n",
        "\n",
        "# La salida del modelo\n",
        "print(response.text)\n"
      ],
      "metadata": {
        "id": "Xg2HNf9RGkAb"
      },
      "execution_count": null,
      "outputs": []
    },
    {
      "cell_type": "markdown",
      "source": [
        "###**As conclusion, I want to emphasize the potential of automation when we leverage artificial intelligence tools. Additionally, these tools enhance the reproducibility of our work, an issue that often help us in our research.**"
      ],
      "metadata": {
        "id": "Jd52WsupE0oN"
      }
    }
  ]
}